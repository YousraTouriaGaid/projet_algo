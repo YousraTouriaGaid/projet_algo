{
 "cells": [
  {
   "cell_type": "code",
   "execution_count": 1,
   "id": "fd5eb130",
   "metadata": {},
   "outputs": [],
   "source": [
    "import pickle"
   ]
  },
  {
   "cell_type": "code",
   "execution_count": 2,
   "id": "05364c39",
   "metadata": {},
   "outputs": [],
   "source": [
    "\n",
    "with open('cards_game/jeu_54cards.pkl', 'rb') as f:\n",
    "    liste_a_trier = pickle.load(f)"
   ]
  },
  {
   "cell_type": "code",
   "execution_count": 3,
   "id": "c863fb9d",
   "metadata": {},
   "outputs": [
    {
     "name": "stdout",
     "output_type": "stream",
     "text": [
      "['3 de Coeur', '8 de Carreau', 'Dame de Pique', '2 de Coeur', 'Roi de Coeur', '4 de Coeur', '4 de Trèfle', '10 de Carreau', '2 de Carreau', '3 de Trèfle', '4 de Carreau', '2 de Pique', '8 de Trèfle', '3 de Carreau', '10 de Pique', '1 de Coeur', '6 de Carreau', '9 de Trèfle', '8 de Pique', '5 de Trèfle', '7 de Trèfle', '1 de Trèfle', 'Roi de Carreau', '6 de Pique', 'Dame de Coeur', '10 de Trèfle', 'Roi de Trèfle', 'Valet de Carreau', '5 de Carreau', '5 de Coeur', '1 de Carreau', '4 de Pique', '8 de Coeur', 'Valet de Coeur', '3 de Pique', 'Valet de Trèfle', '7 de Pique', '2 de Trèfle', '6 de Trèfle', '9 de Pique', '7 de Carreau', 'Roi de Pique', '5 de Pique', '6 de Coeur', '7 de Coeur', 'Dame de Carreau', 'Dame de Trèfle', '10 de Coeur', 'Valet de Pique', '9 de Coeur', '9 de Carreau', '1 de Pique']\n"
     ]
    }
   ],
   "source": [
    "print(liste_a_trier)\n",
    "\n"
   ]
  },
  {
   "cell_type": "code",
   "execution_count": null,
   "id": "6e04e34f",
   "metadata": {},
   "outputs": [],
   "source": [
    "a,b,c, _, _ = [6, 10, 2001, 15, 10]\n",
    "print('a = ', a)\n",
    "print('b = ', b)\n",
    "print('c = ', c)"
   ]
  },
  {
   "cell_type": "code",
   "execution_count": 4,
   "id": "62b8ec4e",
   "metadata": {},
   "outputs": [],
   "source": [
    "liste_dict = []\n",
    "for carte in liste_a_trier:\n",
    "    numero, _, famille = carte.split()\n",
    "    if numero == \"Roi\":\n",
    "        numero =13\n",
    "    elif  numero == \"Dame\":\n",
    "        numero =12    \n",
    "    elif  numero == \"Valet\":\n",
    "        numero =11    \n",
    "\n",
    "    carte = {\n",
    "        'numero': int(numero),\n",
    "        'famille': famille\n",
    "    }\n",
    "    liste_dict.append(carte)"
   ]
  },
  {
   "cell_type": "code",
   "execution_count": 5,
   "id": "a007037b",
   "metadata": {},
   "outputs": [
    {
     "name": "stdout",
     "output_type": "stream",
     "text": [
      "[{'numero': 3, 'famille': 'Coeur'}, {'numero': 8, 'famille': 'Carreau'}, {'numero': 12, 'famille': 'Pique'}, {'numero': 2, 'famille': 'Coeur'}, {'numero': 13, 'famille': 'Coeur'}, {'numero': 4, 'famille': 'Coeur'}, {'numero': 4, 'famille': 'Trèfle'}, {'numero': 10, 'famille': 'Carreau'}, {'numero': 2, 'famille': 'Carreau'}, {'numero': 3, 'famille': 'Trèfle'}, {'numero': 4, 'famille': 'Carreau'}, {'numero': 2, 'famille': 'Pique'}, {'numero': 8, 'famille': 'Trèfle'}, {'numero': 3, 'famille': 'Carreau'}, {'numero': 10, 'famille': 'Pique'}, {'numero': 1, 'famille': 'Coeur'}, {'numero': 6, 'famille': 'Carreau'}, {'numero': 9, 'famille': 'Trèfle'}, {'numero': 8, 'famille': 'Pique'}, {'numero': 5, 'famille': 'Trèfle'}, {'numero': 7, 'famille': 'Trèfle'}, {'numero': 1, 'famille': 'Trèfle'}, {'numero': 13, 'famille': 'Carreau'}, {'numero': 6, 'famille': 'Pique'}, {'numero': 12, 'famille': 'Coeur'}, {'numero': 10, 'famille': 'Trèfle'}, {'numero': 13, 'famille': 'Trèfle'}, {'numero': 11, 'famille': 'Carreau'}, {'numero': 5, 'famille': 'Carreau'}, {'numero': 5, 'famille': 'Coeur'}, {'numero': 1, 'famille': 'Carreau'}, {'numero': 4, 'famille': 'Pique'}, {'numero': 8, 'famille': 'Coeur'}, {'numero': 11, 'famille': 'Coeur'}, {'numero': 3, 'famille': 'Pique'}, {'numero': 11, 'famille': 'Trèfle'}, {'numero': 7, 'famille': 'Pique'}, {'numero': 2, 'famille': 'Trèfle'}, {'numero': 6, 'famille': 'Trèfle'}, {'numero': 9, 'famille': 'Pique'}, {'numero': 7, 'famille': 'Carreau'}, {'numero': 13, 'famille': 'Pique'}, {'numero': 5, 'famille': 'Pique'}, {'numero': 6, 'famille': 'Coeur'}, {'numero': 7, 'famille': 'Coeur'}, {'numero': 12, 'famille': 'Carreau'}, {'numero': 12, 'famille': 'Trèfle'}, {'numero': 10, 'famille': 'Coeur'}, {'numero': 11, 'famille': 'Pique'}, {'numero': 9, 'famille': 'Coeur'}, {'numero': 9, 'famille': 'Carreau'}, {'numero': 1, 'famille': 'Pique'}]\n"
     ]
    }
   ],
   "source": [
    "print(liste_dict)"
   ]
  },
  {
   "cell_type": "markdown",
   "id": "ccbd7fa5",
   "metadata": {},
   "source": [
    "tri a bulle\n"
   ]
  },
  {
   "cell_type": "code",
   "execution_count": null,
   "id": "67e4aa3c",
   "metadata": {},
   "outputs": [],
   "source": [
    "\n",
    "\n",
    "%timeit sum(range(N))\n",
    "\n",
    "\n",
    "%load_ext line_profiler\n",
    "\n",
    "\n",
    "def trier_carte(list_carte, N):\n",
    "    for i in range(N - 1):\n",
    "        for j in range(N - 1 - i):\n",
    "            if list_carte[j + 1][\"numero\"]< list_carte[j][\"numero\"] :\n",
    "                stock = list_carte[j] \n",
    "                list_carte[j] = list_carte[j + 1]\n",
    "                list_carte[j + 1] = stock"
   ]
  },
  {
   "cell_type": "code",
   "execution_count": 15,
   "id": "54c290c7",
   "metadata": {},
   "outputs": [
    {
     "ename": "IndexError",
     "evalue": "list index out of range",
     "output_type": "error",
     "traceback": [
      "\u001b[31m---------------------------------------------------------------------------\u001b[39m",
      "\u001b[31mIndexError\u001b[39m                                Traceback (most recent call last)",
      "\u001b[36mCell\u001b[39m\u001b[36m \u001b[39m\u001b[32mIn[15]\u001b[39m\u001b[32m, line 2\u001b[39m\n\u001b[32m      1\u001b[39m N = \u001b[38;5;28mlen\u001b[39m(liste_a_trier)\n\u001b[32m----> \u001b[39m\u001b[32m2\u001b[39m \u001b[43mmerge_sort\u001b[49m\u001b[43m(\u001b[49m\u001b[43mliste_dict\u001b[49m\u001b[43m)\u001b[49m\n",
      "\u001b[36mCell\u001b[39m\u001b[36m \u001b[39m\u001b[32mIn[14]\u001b[39m\u001b[32m, line 7\u001b[39m, in \u001b[36mmerge_sort\u001b[39m\u001b[34m(liste_carte)\u001b[39m\n\u001b[32m      4\u001b[39m left = liste_carte[:mid]\n\u001b[32m      5\u001b[39m right = liste_carte[mid:]\n\u001b[32m----> \u001b[39m\u001b[32m7\u001b[39m \u001b[43mmerge_sort\u001b[49m\u001b[43m(\u001b[49m\u001b[43mleft\u001b[49m\u001b[43m)\u001b[49m\n\u001b[32m      8\u001b[39m merge_sort(right)\n\u001b[32m      9\u001b[39m i = j = k = \u001b[32m0\u001b[39m \u001b[38;5;66;03m#list_resultat = []\u001b[39;00m\n",
      "\u001b[36mCell\u001b[39m\u001b[36m \u001b[39m\u001b[32mIn[14]\u001b[39m\u001b[32m, line 7\u001b[39m, in \u001b[36mmerge_sort\u001b[39m\u001b[34m(liste_carte)\u001b[39m\n\u001b[32m      4\u001b[39m left = liste_carte[:mid]\n\u001b[32m      5\u001b[39m right = liste_carte[mid:]\n\u001b[32m----> \u001b[39m\u001b[32m7\u001b[39m \u001b[43mmerge_sort\u001b[49m\u001b[43m(\u001b[49m\u001b[43mleft\u001b[49m\u001b[43m)\u001b[49m\n\u001b[32m      8\u001b[39m merge_sort(right)\n\u001b[32m      9\u001b[39m i = j = k = \u001b[32m0\u001b[39m \u001b[38;5;66;03m#list_resultat = []\u001b[39;00m\n",
      "    \u001b[31m[... skipping similar frames: merge_sort at line 7 (1 times)]\u001b[39m\n",
      "\u001b[36mCell\u001b[39m\u001b[36m \u001b[39m\u001b[32mIn[14]\u001b[39m\u001b[32m, line 7\u001b[39m, in \u001b[36mmerge_sort\u001b[39m\u001b[34m(liste_carte)\u001b[39m\n\u001b[32m      4\u001b[39m left = liste_carte[:mid]\n\u001b[32m      5\u001b[39m right = liste_carte[mid:]\n\u001b[32m----> \u001b[39m\u001b[32m7\u001b[39m \u001b[43mmerge_sort\u001b[49m\u001b[43m(\u001b[49m\u001b[43mleft\u001b[49m\u001b[43m)\u001b[49m\n\u001b[32m      8\u001b[39m merge_sort(right)\n\u001b[32m      9\u001b[39m i = j = k = \u001b[32m0\u001b[39m \u001b[38;5;66;03m#list_resultat = []\u001b[39;00m\n",
      "\u001b[36mCell\u001b[39m\u001b[36m \u001b[39m\u001b[32mIn[14]\u001b[39m\u001b[32m, line 28\u001b[39m, in \u001b[36mmerge_sort\u001b[39m\u001b[34m(liste_carte)\u001b[39m\n\u001b[32m     25\u001b[39m     k += \u001b[32m1\u001b[39m\n\u001b[32m     27\u001b[39m \u001b[38;5;28;01mwhile\u001b[39;00m  j < \u001b[38;5;28mlen\u001b[39m(right) :\n\u001b[32m---> \u001b[39m\u001b[32m28\u001b[39m     liste_carte[k] = \u001b[43mleft\u001b[49m\u001b[43m[\u001b[49m\u001b[43mj\u001b[49m\u001b[43m]\u001b[49m\n\u001b[32m     29\u001b[39m     j += \u001b[32m1\u001b[39m\n\u001b[32m     30\u001b[39m     k += \u001b[32m1\u001b[39m\n",
      "\u001b[31mIndexError\u001b[39m: list index out of range"
     ]
    }
   ],
   "source": [
    "N = len(liste_a_trier)\n",
    "merge_sort(liste_dict)"
   ]
  },
  {
   "cell_type": "code",
   "execution_count": null,
   "id": "677ecb89",
   "metadata": {},
   "outputs": [],
   "source": [
    "print(liste_dict)"
   ]
  },
  {
   "cell_type": "code",
   "execution_count": null,
   "id": "a159d349",
   "metadata": {},
   "outputs": [],
   "source": [
    "liste_mot= []\n",
    "for dictionnaire in liste_dict :\n",
    "    mot = str(dictionnaire[\"numero\"]) +' de '+ dictionnaire[\"famille\"]\n",
    "    liste_mot.append(mot)"
   ]
  },
  {
   "cell_type": "code",
   "execution_count": null,
   "id": "54ef77e1",
   "metadata": {},
   "outputs": [],
   "source": [
    "print(liste_mot)"
   ]
  },
  {
   "cell_type": "markdown",
   "id": "2674fb31",
   "metadata": {},
   "source": [
    "trie insertion\n"
   ]
  },
  {
   "cell_type": "markdown",
   "id": "15eb3043",
   "metadata": {},
   "source": [
    "**Un pseudocode possible** *(source : Wikipedia)*\n",
    "\n",
    "```\n",
    "procédure tri_insertion(tableau T, entier n)\n",
    "\n",
    "  pour i de 1 à n - 1\n",
    "        # mémoriser T[i] dans x\n",
    "        x ← T[i]                            \n",
    "\n",
    "        j ← i                               \n",
    "        tant que j > 0 et T[j - 1] > x\n",
    "                 T[j] ← T[j - 1]\n",
    "                 j ← j - 1\n",
    "\n",
    "        # placer x dans le \"trou\" laissé par le décalage\n",
    "        T[j] ← x \n",
    "```"
   ]
  },
  {
   "cell_type": "code",
   "execution_count": null,
   "id": "0568e131",
   "metadata": {},
   "outputs": [],
   "source": [
    "def trier_insert_carte(list_carte, N):\n",
    "    for i in range(N - 1):\n",
    "        stock = list_carte[i]\n",
    "\n",
    "        while j>0 and list_carte[j - 1][\"numero\"] > stock:\n",
    "           \n",
    "            list_carte[j] = list_carte[j - 1]\n",
    "            j = j-1\n",
    "\n",
    "        list_carte[j]   = stock \n",
    "\n",
    "\n",
    "\n",
    "            "
   ]
  },
  {
   "cell_type": "markdown",
   "id": "6efbbe08",
   "metadata": {},
   "source": [
    "**Un pseudocode possible** *(source : Wikipedia)*\n",
    "\n",
    "```\n",
    "procédure tri_selection(tableau t, entier n)\n",
    "  pour i de 0 à n - 2\n",
    "      min ← i       \n",
    "      pour j de i + 1 à n - 1\n",
    "          si t[j] < t[min], alors min ← j\n",
    "      fin pour\n",
    "      si min ≠ i, alors échanger t[i] et t[min]\n",
    "  fin pour\n",
    "fin procédure\n",
    "```"
   ]
  },
  {
   "cell_type": "code",
   "execution_count": null,
   "id": "4630c3df",
   "metadata": {},
   "outputs": [],
   "source": [
    "def trier_selection_carte(list_carte, N):\n",
    "    for i in range(0,N):\n",
    "        min = i\n",
    "\n",
    "        for j in range(i + 1, N):\n",
    "           if list_carte[j] < list_carte[min]:\n",
    "                min = j\n",
    "        if min != i :\n",
    "            stock = list_carte[i]\n",
    "            list_carte[i] = list_carte[min]\n",
    "            list_carte[min] =stock\n",
    "\n",
    "        "
   ]
  },
  {
   "cell_type": "markdown",
   "id": "8e59ab15",
   "metadata": {},
   "source": [
    "Tri recursif\n",
    "Le Tri fusion"
   ]
  },
  {
   "cell_type": "code",
   "execution_count": 14,
   "id": "a480d504",
   "metadata": {},
   "outputs": [],
   "source": [
    "def merge_sort(liste_carte):  #gauche, droite\n",
    "    if len(liste_carte)> 1:\n",
    "        mid = len(liste_carte)//2\n",
    "        left = liste_carte[:mid]\n",
    "        right = liste_carte[mid:]\n",
    "\n",
    "        merge_sort(left)\n",
    "        merge_sort(right)\n",
    "        i = j = k = 0 #list_resultat = []\n",
    "        \n",
    "        while i < len(left) and j < len(right):\n",
    "            if left[i][\"numero\"] < right[j][\"numero\"] :\n",
    "                liste_carte[k] = left [i]\n",
    "                i += 1\n",
    "\n",
    "            else :\n",
    "                liste_carte[k] = right[j]\n",
    "                j += 1\n",
    "\n",
    "            k += 1       \n",
    "\n",
    "        while  i < len(left) :\n",
    "            liste_carte[k] = left[i]\n",
    "            i += 1\n",
    "            k += 1\n",
    "\n",
    "        while  j < len(right) :\n",
    "            liste_carte[k] = left[j]\n",
    "            j += 1\n",
    "            k += 1    \n",
    "\n",
    "\n",
    "\n",
    "        \n"
   ]
  },
  {
   "cell_type": "markdown",
   "id": "44977d2c",
   "metadata": {},
   "source": [
    "quick sort\n"
   ]
  },
  {
   "cell_type": "code",
   "execution_count": null,
   "id": "e86fd1cb",
   "metadata": {},
   "outputs": [],
   "source": [
    "def quick_sort(liste_carte)\n",
    "\n",
    "\n",
    "\n",
    "\n",
    "def quick_sort(liste_carte, low, high):\n",
    "\n",
    "    \n",
    "    pivot = array[high]\n",
    "\n",
    "    \n",
    "    i = low - 1\n",
    "    for j in range(low, high):\n",
    "        if array[j] <= pivot:\n",
    "            i = i + 1\n",
    "            (array[i], array[j]) = (array[j], array[i])\n",
    "\n",
    "    (array[i + 1], array[high]) = (array[high], array[i + 1])\n",
    "    return i + 1\n",
    "\n",
    "\n",
    "def quickSort(array, low, high):\n",
    "    if low < high:\n",
    "        pi = partition(array, low, high)\n",
    "        quickSort(array, low, pi - 1)\n",
    "        quickSort(array, pi + 1, high)\n",
    "\n",
    "\n",
    "data = [1, 7, 4, 1, 10, 9, -2]\n",
    "print(\"Unsorted Array\")\n",
    "print(data)\n",
    "\n",
    "size = len(data)\n",
    "\n",
    "quickSort(data, 0, size - 1)\n",
    "\n",
    "print('Sorted Array in Ascending Order:')\n",
    "print(data)"
   ]
  }
 ],
 "metadata": {
  "kernelspec": {
   "display_name": "algo",
   "language": "python",
   "name": "python3"
  },
  "language_info": {
   "codemirror_mode": {
    "name": "ipython",
    "version": 3
   },
   "file_extension": ".py",
   "mimetype": "text/x-python",
   "name": "python",
   "nbconvert_exporter": "python",
   "pygments_lexer": "ipython3",
   "version": "3.12.3"
  }
 },
 "nbformat": 4,
 "nbformat_minor": 5
}
