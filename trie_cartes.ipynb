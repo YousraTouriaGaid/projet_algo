{
 "cells": [
  {
   "cell_type": "markdown",
   "id": "ce4f090c",
   "metadata": {},
   "source": [
    "# Cartes"
   ]
  },
  {
   "cell_type": "markdown",
   "id": "4ca4e1dc",
   "metadata": {},
   "source": [
    "## Chargement de la donnée"
   ]
  },
  {
   "cell_type": "code",
   "execution_count": null,
   "id": "e824d61e",
   "metadata": {},
   "outputs": [
    {
     "name": "stdout",
     "output_type": "stream",
     "text": [
      "['6 de Pique', '8 de Trèfle', '6 de Trèfle', 'Atout 21', '7 de Pique', '4 de Pique', '7 de Trèfle', '10 de Pique', 'Valet de Pique', '9 de Pique', 'Roi de Trèfle', '6 de Carreau', '2 de Carreau', 'Atout 20', 'Roi de Pique', 'Atout 4', '3 de Pique', '1 de Pique', 'Valet de Carreau', '4 de Trèfle', '8 de Coeur', '8 de Pique', '9 de Trèfle', '9 de Carreau', '7 de Carreau', 'Atout 11', 'Atout 15', 'Dame de Carreau', '1 de Carreau', 'Atout 16', 'Dame de Trèfle', '10 de Trèfle', '5 de Pique', '1 de Trèfle', 'Roi de Carreau', 'Atout 14', '2 de Pique', 'Valet de Trèfle', 'Atout 13', 'Atout 9', 'Atout 6', 'Atout 3', 'Dame de Pique', 'Atout 7', 'Atout 19', '2 de Trèfle', 'Atout 1', '5 de Coeur', '5 de Trèfle', 'Dame de Coeur', '5 de Carreau', '6 de Coeur', '4 de Carreau', '3 de Trèfle', 'Atout 12', 'Atout 2', '7 de Coeur', '4 de Coeur', '10 de Carreau', 'Cavalier de Coeur', 'Valet de Coeur', 'Cavalier de Carreau', '10 de Coeur', 'Atout 17', 'Cavalier de Pique', '3 de Carreau', 'Atout 10', 'Atout 8', 'Atout 18', 'Le Mat', 'Atout 5', 'Roi de Coeur', '3 de Coeur', 'Cavalier de Trèfle', '2 de Coeur', '8 de Carreau', '9 de Coeur', '1 de Coeur']\n"
     ]
    }
   ],
   "source": [
    "import pickle\n",
    "with open('jeu_tarot.pkl', 'rb') as f:\n",
    "    liste_a_trier = pickle.load(f)\n",
    "\n",
    "print(liste_a_trier)"
   ]
  },
  {
   "cell_type": "code",
   "execution_count": 3,
   "id": "c0c68b56",
   "metadata": {},
   "outputs": [
    {
     "name": "stdout",
     "output_type": "stream",
     "text": [
      "['1 de Carreau',\n",
      " '1 de Coeur',\n",
      " '1 de Pique',\n",
      " '1 de Trèfle',\n",
      " '10 de Carreau',\n",
      " '10 de Coeur',\n",
      " '10 de Pique',\n",
      " '10 de Trèfle',\n",
      " '2 de Carreau',\n",
      " '2 de Coeur',\n",
      " '2 de Pique',\n",
      " '2 de Trèfle',\n",
      " '3 de Carreau',\n",
      " '3 de Coeur',\n",
      " '3 de Pique',\n",
      " '3 de Trèfle',\n",
      " '4 de Carreau',\n",
      " '4 de Coeur',\n",
      " '4 de Pique',\n",
      " '4 de Trèfle',\n",
      " '5 de Carreau',\n",
      " '5 de Coeur',\n",
      " '5 de Pique',\n",
      " '5 de Trèfle',\n",
      " '6 de Carreau',\n",
      " '6 de Coeur',\n",
      " '6 de Pique',\n",
      " '6 de Trèfle',\n",
      " '7 de Carreau',\n",
      " '7 de Coeur',\n",
      " '7 de Pique',\n",
      " '7 de Trèfle',\n",
      " '8 de Carreau',\n",
      " '8 de Coeur',\n",
      " '8 de Pique',\n",
      " '8 de Trèfle',\n",
      " '9 de Carreau',\n",
      " '9 de Coeur',\n",
      " '9 de Pique',\n",
      " '9 de Trèfle',\n",
      " 'Atout 1',\n",
      " 'Atout 10',\n",
      " 'Atout 11',\n",
      " 'Atout 12',\n",
      " 'Atout 13',\n",
      " 'Atout 14',\n",
      " 'Atout 15',\n",
      " 'Atout 16',\n",
      " 'Atout 17',\n",
      " 'Atout 18',\n",
      " 'Atout 19',\n",
      " 'Atout 2',\n",
      " 'Atout 20',\n",
      " 'Atout 21',\n",
      " 'Atout 3',\n",
      " 'Atout 4',\n",
      " 'Atout 5',\n",
      " 'Atout 6',\n",
      " 'Atout 7',\n",
      " 'Atout 8',\n",
      " 'Atout 9',\n",
      " 'Cavalier de Carreau',\n",
      " 'Cavalier de Coeur',\n",
      " 'Cavalier de Pique',\n",
      " 'Cavalier de Trèfle',\n",
      " 'Dame de Carreau',\n",
      " 'Dame de Coeur',\n",
      " 'Dame de Pique',\n",
      " 'Dame de Trèfle',\n",
      " 'Le Mat',\n",
      " 'Roi de Carreau',\n",
      " 'Roi de Coeur',\n",
      " 'Roi de Pique',\n",
      " 'Roi de Trèfle',\n",
      " 'Valet de Carreau',\n",
      " 'Valet de Coeur',\n",
      " 'Valet de Pique',\n",
      " 'Valet de Trèfle']\n"
     ]
    }
   ],
   "source": [
    "from pprint import pprint\n",
    "\n",
    "pprint(sorted(liste_a_trier))"
   ]
  },
  {
   "cell_type": "markdown",
   "id": "e3ef4c66",
   "metadata": {},
   "source": [
    "## Encodage des cartes en tuples"
   ]
  },
  {
   "cell_type": "code",
   "execution_count": 4,
   "id": "78c67e12",
   "metadata": {},
   "outputs": [],
   "source": [
    "card_to_num = {'1': 1, '2': 2, '3': 3, '4': 4, '5': 5, '6': 6, '7': 7,\n",
    "'8': 8, '9': 9, '10': 10, 'Valet': 11, 'Dame': 12, 'Roi': 13, \n",
    "'Cavalier': 14,}\n",
    "\n",
    "liste_encoder = []\n",
    "for card in liste_a_trier:\n",
    "    splitted_name = card.split()\n",
    "    if len(splitted_name) == 2:\n",
    "        family = ''\n",
    "        if card == 'Le Mat':\n",
    "            num = 100\n",
    "        elif splitted_name[0] == 'Atout':\n",
    "            num = 20 + int(splitted_name[1])\n",
    "    else:\n",
    "        num, _, family = card.split(' ')\n",
    "        num = card_to_num[num]\n",
    "    liste_encoder.append((num, family))"
   ]
  },
  {
   "cell_type": "code",
   "execution_count": 5,
   "id": "9703e456",
   "metadata": {},
   "outputs": [
    {
     "name": "stdout",
     "output_type": "stream",
     "text": [
      "[(6, 'Pique'), (8, 'Trèfle'), (6, 'Trèfle'), (41, ''), (7, 'Pique'), (4, 'Pique'), (7, 'Trèfle'), (10, 'Pique'), (11, 'Pique'), (9, 'Pique'), (13, 'Trèfle'), (6, 'Carreau'), (2, 'Carreau'), (40, ''), (13, 'Pique'), (24, ''), (3, 'Pique'), (1, 'Pique'), (11, 'Carreau'), (4, 'Trèfle'), (8, 'Coeur'), (8, 'Pique'), (9, 'Trèfle'), (9, 'Carreau'), (7, 'Carreau'), (31, ''), (35, ''), (12, 'Carreau'), (1, 'Carreau'), (36, ''), (12, 'Trèfle'), (10, 'Trèfle'), (5, 'Pique'), (1, 'Trèfle'), (13, 'Carreau'), (34, ''), (2, 'Pique'), (11, 'Trèfle'), (33, ''), (29, ''), (26, ''), (23, ''), (12, 'Pique'), (27, ''), (39, ''), (2, 'Trèfle'), (21, ''), (5, 'Coeur'), (5, 'Trèfle'), (12, 'Coeur'), (5, 'Carreau'), (6, 'Coeur'), (4, 'Carreau'), (3, 'Trèfle'), (32, ''), (22, ''), (7, 'Coeur'), (4, 'Coeur'), (10, 'Carreau'), (14, 'Coeur'), (11, 'Coeur'), (14, 'Carreau'), (10, 'Coeur'), (37, ''), (14, 'Pique'), (3, 'Carreau'), (30, ''), (28, ''), (38, ''), (100, ''), (25, ''), (13, 'Coeur'), (3, 'Coeur'), (14, 'Trèfle'), (2, 'Coeur'), (8, 'Carreau'), (9, 'Coeur'), (1, 'Coeur')]\n"
     ]
    }
   ],
   "source": [
    "print(liste_encoder)"
   ]
  },
  {
   "cell_type": "markdown",
   "id": "904b0fa0",
   "metadata": {},
   "source": [
    "## Triage des cartes"
   ]
  },
  {
   "cell_type": "code",
   "execution_count": 6,
   "id": "d23d2b16",
   "metadata": {},
   "outputs": [],
   "source": [
    "def trie_bulle(liste, n):\n",
    "    for i in range(n):\n",
    "        for j in range(0, n-i-1):\n",
    "            if liste[j][0] > liste[j+1][0]:\n",
    "                liste[j], liste[j+1] = liste[j+1], liste[j]\n",
    "    return liste"
   ]
  },
  {
   "cell_type": "code",
   "execution_count": 7,
   "id": "7d005872",
   "metadata": {},
   "outputs": [
    {
     "name": "stdout",
     "output_type": "stream",
     "text": [
      "[(1, 'Pique'), (1, 'Carreau'), (1, 'Trèfle'), (1, 'Coeur'), (2, 'Carreau'), (2, 'Pique'), (2, 'Trèfle'), (2, 'Coeur'), (3, 'Pique'), (3, 'Trèfle'), (3, 'Carreau'), (3, 'Coeur'), (4, 'Pique'), (4, 'Trèfle'), (4, 'Carreau'), (4, 'Coeur'), (5, 'Pique'), (5, 'Coeur'), (5, 'Trèfle'), (5, 'Carreau'), (6, 'Pique'), (6, 'Trèfle'), (6, 'Carreau'), (6, 'Coeur'), (7, 'Pique'), (7, 'Trèfle'), (7, 'Carreau'), (7, 'Coeur'), (8, 'Trèfle'), (8, 'Coeur'), (8, 'Pique'), (8, 'Carreau'), (9, 'Pique'), (9, 'Trèfle'), (9, 'Carreau'), (9, 'Coeur'), (10, 'Pique'), (10, 'Trèfle'), (10, 'Carreau'), (10, 'Coeur'), (11, 'Pique'), (11, 'Carreau'), (11, 'Trèfle'), (11, 'Coeur'), (12, 'Carreau'), (12, 'Trèfle'), (12, 'Pique'), (12, 'Coeur'), (13, 'Trèfle'), (13, 'Pique'), (13, 'Carreau'), (13, 'Coeur'), (14, 'Coeur'), (14, 'Carreau'), (14, 'Pique'), (14, 'Trèfle'), (21, ''), (22, ''), (23, ''), (24, ''), (25, ''), (26, ''), (27, ''), (28, ''), (29, ''), (30, ''), (31, ''), (32, ''), (33, ''), (34, ''), (35, ''), (36, ''), (37, ''), (38, ''), (39, ''), (40, ''), (41, ''), (100, '')]\n"
     ]
    }
   ],
   "source": [
    "n = len(liste_encoder)\n",
    "liste_triee = trie_bulle(liste_encoder, n)\n",
    "print(liste_triee)"
   ]
  },
  {
   "cell_type": "markdown",
   "id": "a063a7bb",
   "metadata": {},
   "source": [
    "## Décodage des liste de tuples en liste de cartes"
   ]
  },
  {
   "cell_type": "code",
   "execution_count": 8,
   "id": "a4634e05",
   "metadata": {},
   "outputs": [
    {
     "name": "stdout",
     "output_type": "stream",
     "text": [
      "['1 de Pique', '1 de Carreau', '1 de Trèfle', '1 de Coeur', '2 de Carreau', '2 de Pique', '2 de Trèfle', '2 de Coeur', '3 de Pique', '3 de Trèfle', '3 de Carreau', '3 de Coeur', '4 de Pique', '4 de Trèfle', '4 de Carreau', '4 de Coeur', '5 de Pique', '5 de Coeur', '5 de Trèfle', '5 de Carreau', '6 de Pique', '6 de Trèfle', '6 de Carreau', '6 de Coeur', '7 de Pique', '7 de Trèfle', '7 de Carreau', '7 de Coeur', '8 de Trèfle', '8 de Coeur', '8 de Pique', '8 de Carreau', '9 de Pique', '9 de Trèfle', '9 de Carreau', '9 de Coeur', '10 de Pique', '10 de Trèfle', '10 de Carreau', '10 de Coeur', '11 de Pique', '11 de Carreau', '11 de Trèfle', '11 de Coeur', '12 de Carreau', '12 de Trèfle', '12 de Pique', '12 de Coeur', '13 de Trèfle', '13 de Pique', '13 de Carreau', '13 de Coeur', '14 de Coeur', '14 de Carreau', '14 de Pique', '14 de Trèfle', 'Atout 1', 'Atout 2', 'Atout 3', 'Atout 4', 'Atout 5', 'Atout 6', 'Atout 7', 'Atout 8', 'Atout 9', 'Atout 10', 'Atout 11', 'Atout 12', 'Atout 13', 'Atout 14', 'Atout 15', 'Atout 16', 'Atout 17', 'Atout 18', 'Atout 19', 'Atout 20', 'Atout 21', 'Le Mat']\n"
     ]
    }
   ],
   "source": [
    "liste_decodee = []\n",
    "for val in liste_triee:\n",
    "    if val[0] < 15:\n",
    "        num, family = val\n",
    "        liste_decodee.append(f'{num} de {family}')\n",
    "    elif val[0] == 100:\n",
    "        liste_decodee.append('Le Mat')\n",
    "    else:\n",
    "        liste_decodee.append(f'Atout {val[0] - 20}')\n",
    "print(liste_decodee)"
   ]
  }
 ],
 "metadata": {
  "kernelspec": {
   "display_name": "Caseine_Python",
   "language": "python",
   "name": "python3"
  },
  "language_info": {
   "codemirror_mode": {
    "name": "ipython",
    "version": 3
   },
   "file_extension": ".py",
   "mimetype": "text/x-python",
   "name": "python",
   "nbconvert_exporter": "python",
   "pygments_lexer": "ipython3",
   "version": "3.13.5"
  }
 },
 "nbformat": 4,
 "nbformat_minor": 5
}
