{
 "cells": [
  {
   "cell_type": "markdown",
   "metadata": {},
   "source": [
    "# 0 Mise en place des fonctions de travail "
   ]
  },
  {
   "cell_type": "code",
   "execution_count": 1,
   "metadata": {},
   "outputs": [],
   "source": [
    "import random\n",
    "\n",
    "def generate_random_array(debug=False, N=21):\n",
    "    \"\"\"Renvoie un tableau contenant toutes les valeurs entières de 0 (inclus)\n",
    "    à N (exclus) rangées dans un ordre aléatoire\n",
    "\n",
    "    Args:\n",
    "        debug (boolean): quand debug est vrai, la fonction renvoie toujours le\n",
    "                         même tableau afin de simplifier le débogage de vos\n",
    "                         algorithmes de tri\n",
    "        N (int): la taille du tableau à renvoyer\n",
    "\n",
    "    Returns:\n",
    "        list[int]: un tableau d'entiers, de taille N, non ordonné\n",
    "    \"\"\"\n",
    "\n",
    "    if debug:\n",
    "        return [3, 9, 7, 1, 6, 2, 8, 4, 5, 0]\n",
    "\n",
    "    array = list(range(0, N))\n",
    "    random.shuffle(array)\n",
    "\n",
    "    return array"
   ]
  },
  {
   "cell_type": "code",
   "execution_count": 2,
   "metadata": {},
   "outputs": [
    {
     "name": "stdout",
     "output_type": "stream",
     "text": [
      "[0, 15, 19, 18, 14, 13, 2, 8, 4, 5, 17, 12, 9, 10, 16, 1, 6, 7, 3, 11, 20]\n",
      "[3, 9, 7, 1, 6, 2, 8, 4, 5, 0]\n",
      "[16, 29, 13, 7, 18, 23, 3, 5, 20, 26, 1, 30, 6, 17, 28, 22, 21, 19, 10, 14, 12, 24, 27, 25, 2, 11, 4, 0, 9, 8, 15]\n"
     ]
    }
   ],
   "source": [
    "# Exemple d'utilisation de la fonction precedente\n",
    "\n",
    "print(generate_random_array()) # Retourne un tableau avec des nombres naturels allant de 0 a 20\n",
    "print(generate_random_array(True)) # Retourne le tableau [3, 9, 7, 1, 6, 2, 8, 4, 5, 0]\n",
    "print(generate_random_array(N=31)) # Des nombres naturels allant de 0 a 30"
   ]
  },
  {
   "cell_type": "code",
   "execution_count": 3,
   "metadata": {},
   "outputs": [],
   "source": [
    "def swap(tab, i, j):\n",
    "    \"\"\"Échange la place des éléments aux indices i et j du tableau\"\"\"\n",
    "    tab[i], tab[j] = tab[j], tab[i]"
   ]
  },
  {
   "cell_type": "markdown",
   "metadata": {},
   "source": [
    "# 1 Les tris classiques "
   ]
  },
  {
   "cell_type": "markdown",
   "metadata": {},
   "source": [
    "## 1.1 Tri à bulles"
   ]
  },
  {
   "cell_type": "markdown",
   "metadata": {},
   "source": [
    "**Un pseudocode possible** *(source : Wikipedia)*\n",
    "\n",
    "```\n",
    "procedure tri_à_bulles(Tableau T)\n",
    "   pour i allant de (taille de T)-1 à 1\n",
    "       pour j allant de 0 à i-1\n",
    "           si T[j+1] < T[j] alors\n",
    "               échanger(T[j+1], T[j])\n",
    "       fin pour\n",
    "   fin pour\n",
    "        \n",
    "```"
   ]
  },
  {
   "cell_type": "code",
   "execution_count": 4,
   "metadata": {},
   "outputs": [],
   "source": [
    "def bubble(A):\n",
    "    \"\"\"Trie le tableau en déplaçant les plus grosses valeurs vers la fin du\n",
    "    tableau, un peu comme des bulles dans l'eau qui remonteraient à la\n",
    "    surface\"\"\"\n",
    "\n",
    "    n = len(A)\n",
    "    for i in range(n):\n",
    "        for j in range(0, n-i-1):\n",
    "            if A[j] > A[j+1]:\n",
    "                swap(A, j, j+1)\n",
    "    return A"
   ]
  },
  {
   "cell_type": "code",
   "execution_count": 5,
   "metadata": {},
   "outputs": [
    {
     "data": {
      "text/plain": [
       "[0, 1, 2, 3, 4, 5, 6, 7, 8, 9, 10, 11, 12, 13, 14, 15, 16, 17, 18, 19, 20]"
      ]
     },
     "execution_count": 5,
     "metadata": {},
     "output_type": "execute_result"
    }
   ],
   "source": [
    "bubble(generate_random_array())"
   ]
  },
  {
   "cell_type": "markdown",
   "metadata": {},
   "source": [
    "## 1.2 Insertion"
   ]
  },
  {
   "cell_type": "markdown",
   "metadata": {},
   "source": [
    "**Un pseudocode possible** *(source : Wikipedia)*\n",
    "\n",
    "```\n",
    "procédure tri_insertion(tableau T, entier n)\n",
    "\n",
    "  pour i de 1 à n - 1\n",
    "        # mémoriser T[i] dans x\n",
    "        x ← T[i]                            \n",
    "\n",
    "        j ← i                               \n",
    "        tant que j > 0 et T[j - 1] > x\n",
    "                 T[j] ← T[j - 1]\n",
    "                 j ← j - 1\n",
    "\n",
    "        # placer x dans le \"trou\" laissé par le décalage\n",
    "        T[j] ← x \n",
    "```"
   ]
  },
  {
   "cell_type": "code",
   "execution_count": 6,
   "metadata": {},
   "outputs": [],
   "source": [
    "def insertion(A):\n",
    "    \"\"\"Trie le tableau en plaçant l'élément courant à la bonne place dans\n",
    "    le sous-tableau déjà trié\"\"\"\n",
    "    \n",
    "    n = len(A)\n",
    "    for i in range(1, n):\n",
    "        key = A[i]\n",
    "        j = i\n",
    "        while j > 0 and A[j-1] > key:\n",
    "            A[j] = A[j-1]\n",
    "            j -= 1\n",
    "        A[j] = key\n",
    "    return A\n"
   ]
  },
  {
   "cell_type": "code",
   "execution_count": 7,
   "metadata": {},
   "outputs": [
    {
     "data": {
      "text/plain": [
       "[0, 1, 2, 3, 4, 5, 6, 7, 8, 9, 10, 11, 12, 13, 14, 15, 16, 17, 18, 19, 20]"
      ]
     },
     "execution_count": 7,
     "metadata": {},
     "output_type": "execute_result"
    }
   ],
   "source": [
    "insertion(generate_random_array())"
   ]
  },
  {
   "cell_type": "markdown",
   "metadata": {},
   "source": [
    "## 1.3 Selection"
   ]
  },
  {
   "cell_type": "markdown",
   "metadata": {},
   "source": [
    "**Un pseudocode possible** *(source : Wikipedia)*\n",
    "\n",
    "```\n",
    "procédure tri_selection(tableau t, entier n)\n",
    "  pour i de 0 à n - 2\n",
    "      min ← i       \n",
    "      pour j de i + 1 à n - 1\n",
    "          si t[j] < t[min], alors min ← j\n",
    "      fin pour\n",
    "      si min ≠ i, alors échanger t[i] et t[min]\n",
    "  fin pour\n",
    "fin procédure\n",
    "```"
   ]
  },
  {
   "cell_type": "code",
   "execution_count": 8,
   "metadata": {},
   "outputs": [],
   "source": [
    "def selection(A):\n",
    "    \"\"\"Trie le tableau en cherchant le plus petit élément à mettre dans la\n",
    "    première case, puis le second plus petit à mettre dans la seconde case,\n",
    "    etc\"\"\"\n",
    "    \n",
    "    n = len(A)\n",
    "    for i in range(n):\n",
    "        min_index = i\n",
    "        for j in range(i+1, n):\n",
    "            if A[j] < A[min_index]:\n",
    "                min_index = j\n",
    "        swap(A, i, min_index)\n",
    "    return A"
   ]
  },
  {
   "cell_type": "code",
   "execution_count": 9,
   "metadata": {},
   "outputs": [
    {
     "data": {
      "text/plain": [
       "[0, 1, 2, 3, 4, 5, 6, 7, 8, 9, 10, 11, 12, 13, 14, 15, 16, 17, 18, 19, 20]"
      ]
     },
     "execution_count": 9,
     "metadata": {},
     "output_type": "execute_result"
    }
   ],
   "source": [
    "selection(generate_random_array())"
   ]
  }
 ],
 "metadata": {
  "kernelspec": {
   "display_name": "Caseine_Python",
   "language": "python",
   "name": "python3"
  },
  "language_info": {
   "codemirror_mode": {
    "name": "ipython",
    "version": 3
   },
   "file_extension": ".py",
   "mimetype": "text/x-python",
   "name": "python",
   "nbconvert_exporter": "python",
   "pygments_lexer": "ipython3",
   "version": "3.13.5"
  }
 },
 "nbformat": 4,
 "nbformat_minor": 4
}
