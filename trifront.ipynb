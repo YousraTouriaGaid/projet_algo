{
 "cells": [
  {
   "cell_type": "code",
   "execution_count": 3,
   "id": "e62f16c2",
   "metadata": {},
   "outputs": [
    {
     "data": {
      "text/plain": [
       "[0, 1, 2, 3, 4, 5, 6, 7, 8, 9]"
      ]
     },
     "execution_count": 3,
     "metadata": {},
     "output_type": "execute_result"
    }
   ],
   "source": [
    "from fichier import bubble ,insertion ,selection\n",
    "bubble ([3, 9, 7, 1, 6, 2, 8, 4, 5, 0])"
   ]
  },
  {
   "cell_type": "code",
   "execution_count": 4,
   "id": "d21172e2",
   "metadata": {},
   "outputs": [
    {
     "data": {
      "text/plain": [
       "[0, 1, 2, 3, 4, 5, 6, 7, 8, 9]"
      ]
     },
     "execution_count": 4,
     "metadata": {},
     "output_type": "execute_result"
    }
   ],
   "source": [
    "insertion ([3, 9, 7, 1, 6, 2, 8, 4, 5, 0])"
   ]
  },
  {
   "cell_type": "code",
   "execution_count": 5,
   "id": "0a8bac68",
   "metadata": {},
   "outputs": [
    {
     "data": {
      "text/plain": [
       "[0, 1, 2, 3, 4, 5, 6, 7, 8, 9]"
      ]
     },
     "execution_count": 5,
     "metadata": {},
     "output_type": "execute_result"
    }
   ],
   "source": [
    "selection ([3, 9, 7, 1, 6, 2, 8, 4, 5, 0])"
   ]
  },
  {
   "cell_type": "markdown",
   "id": "626b5b7a",
   "metadata": {},
   "source": []
  }
 ],
 "metadata": {
  "kernelspec": {
   "display_name": "algo",
   "language": "python",
   "name": "python3"
  },
  "language_info": {
   "codemirror_mode": {
    "name": "ipython",
    "version": 3
   },
   "file_extension": ".py",
   "mimetype": "text/x-python",
   "name": "python",
   "nbconvert_exporter": "python",
   "pygments_lexer": "ipython3",
   "version": "3.12.3"
  }
 },
 "nbformat": 4,
 "nbformat_minor": 5
}
